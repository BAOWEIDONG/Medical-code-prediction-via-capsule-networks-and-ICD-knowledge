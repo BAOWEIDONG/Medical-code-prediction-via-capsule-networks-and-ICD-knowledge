{
 "cells": [
  {
   "cell_type": "markdown",
   "metadata": {},
   "source": [
    "### 测试模型效果代码\n",
    "\n",
    "可以修改超参数区域的SAVE_MODEL内容。\n",
    "\n",
    "**注意：务必保证训练的模型超参数与测试的超参数一致**"
   ]
  },
  {
   "cell_type": "code",
   "execution_count": 1,
   "metadata": {},
   "outputs": [
    {
     "name": "stderr",
     "output_type": "stream",
     "text": [
      "Using TensorFlow backend.\n"
     ]
    }
   ],
   "source": [
    "import numpy as np\n",
    "from sklearn.metrics import *\n",
    "import copy\n",
    "import utils\n",
    "import time\n",
    "import os\n",
    "from keras.models import load_model\n",
    "from keras.utils import multi_gpu_model\n",
    "from keras.layers import *\n",
    "from keras import Model\n",
    "import keras.backend as K\n",
    "import tensorflow as tf\n",
    "from model import Capsule\n",
    "# 关闭警告信息\n",
    "import os\n",
    "os.environ[\"TF_CPP_MIN_LOG_LEVEL\"] = \"2\"\n",
    "import warnings\n",
    "warnings.filterwarnings(\"ignore\")\n",
    "\n",
    "##########################################################\n",
    "\n",
    "label_to_ix=np.load('Data/label_to_ix.npy',allow_pickle=True).item()\n",
    "test_data=np.load('Data/test_data.npy',allow_pickle=True)\n",
    "word_to_ix=np.load('Data/word_to_ix.npy',allow_pickle=True).item()"
   ]
  },
  {
   "cell_type": "markdown",
   "metadata": {},
   "source": [
    "超参数区域，谨慎修改。\n",
    "\n",
    "set_seed所设置的是随机种子，用于确保效果的可复现性。"
   ]
  },
  {
   "cell_type": "code",
   "execution_count": 2,
   "metadata": {},
   "outputs": [],
   "source": [
    "# 超参数区域\n",
    "BATCH_SIZE = 16\n",
    "SAVE_MODEL = 'Model_save/best_model_capsule_label-0.6753.h5' # 需要测试的模型名\n",
    "LABEL_NUM = len(label_to_ix.keys())\n",
    "\n",
    "def set_seed(THATSEED):\n",
    "    np.random.seed(THATSEED)\n",
    "    tf.compat.v1.set_random_seed(THATSEED)\n",
    "set_seed(1)"
   ]
  },
  {
   "cell_type": "code",
   "execution_count": 3,
   "metadata": {},
   "outputs": [],
   "source": [
    "batch_test = utils.preprocessing(test_data,label_to_ix,BATCH_SIZE,word_to_ix)\n",
    "label_list =  np.expand_dims(np.arange(LABEL_NUM), axis=0)\n",
    "label_list = np.repeat(label_list,BATCH_SIZE,axis=0)\n",
    "# 测试过程，SAVE_MODEL为需要测试效果的模型名字\n",
    "print(\"*\"*20,\"test\",\"*\"*20)\n",
    "model = load_model(SAVE_MODEL,custom_objects={'Capsule':Capsule})"
   ]
  },
  {
   "cell_type": "code",
   "execution_count": 27,
   "metadata": {},
   "outputs": [],
   "source": [
    "test_y_pred = []\n",
    "test_y = []\n",
    "recall = []\n",
    "losses = []\n",
    "topk = 10\n",
    "for batch_data in batch_test:\n",
    "    batch_y_pred = model.predict([batch_data[0],label_list])\n",
    "    losses.append(model.evaluate([batch_data[0],label_list], batch_data[2],verbose=0))\n",
    "    batch_y = batch_data[2]\n",
    "    test_y_pred.append(batch_y_pred)\n",
    "    test_y.append(batch_y)\n",
    "    \n",
    "    for iii in range(0,len(batch_y_pred)):\n",
    "                temp={}\n",
    "                for iiii in range(0,len(batch_y_pred[iii])):\n",
    "                    temp[iiii]=batch_y_pred[iii][iiii]\n",
    "                temp1=[(k, temp[k]) for k in sorted(temp, key=temp.get, reverse=True)]\n",
    "                thistop=int(np.sum(batch_y[iii]))\n",
    "                hit=0.0\n",
    "                for ii in temp1[0:max(thistop,topk)]:\n",
    "                    if batch_y[iii][ii[0]]==1.0:\n",
    "                        hit=hit+1\n",
    "                if thistop!=0:\n",
    "                    recall.append(hit/thistop)\n",
    "\n",
    "test_y_raw = np.concatenate(test_y_pred,axis=0)\n",
    "test_y = np.concatenate(test_y,axis=0)\n",
    "test_y_pred = np.array([[1 if i >= 0.5 else 0 for i in t] for t in test_y_raw])"
   ]
  },
  {
   "cell_type": "code",
   "execution_count": 30,
   "metadata": {},
   "outputs": [
    {
     "name": "stdout",
     "output_type": "stream",
     "text": [
      "auc_macro: 0.9084\n",
      "auc_micro: 0.9837\n",
      "top 10 recall: 0.8226\n",
      "test loss: 0.0291\n",
      "micro precision: 0.7245, micro recall: 0.6324, micro f1: 0.6753.\n",
      "macro precision: 0.3213, macro recall: 0.2487, macro f1: 0.2645.\n"
     ]
    },
    {
     "data": {
      "text/plain": [
       "0.2644913699155241"
      ]
     },
     "execution_count": 30,
     "metadata": {},
     "output_type": "execute_result"
    }
   ],
   "source": [
    "import eval\n",
    "names = ['auc_macro','auc_micro']\n",
    "all_metrics = eval.all_metrics(test_y_pred, test_y, k=10, yhat_raw=test_y_raw, calc_auc=True)\n",
    "for name in names:\n",
    "    print(\"%s: %.4f\" % (name,all_metrics[name]))\n",
    "val_loss,val_acc = np.mean(losses, axis=0)\n",
    "print(\"top 10 recall: %.4f\" % (np.mean(recall)))\n",
    "print(\"test loss: %.4f\" % (val_loss))\n",
    "eval.sk_micro_f1(test_y_pred,test_y)\n",
    "eval.sk_macro_f1(test_y_pred,test_y)"
   ]
  },
  {
   "cell_type": "code",
   "execution_count": null,
   "metadata": {},
   "outputs": [],
   "source": []
  }
 ],
 "metadata": {
  "kernelspec": {
   "display_name": "Python 3",
   "language": "python",
   "name": "python3"
  },
  "language_info": {
   "codemirror_mode": {
    "name": "ipython",
    "version": 3
   },
   "file_extension": ".py",
   "mimetype": "text/x-python",
   "name": "python",
   "nbconvert_exporter": "python",
   "pygments_lexer": "ipython3",
   "version": "3.7.3"
  }
 },
 "nbformat": 4,
 "nbformat_minor": 2
}
