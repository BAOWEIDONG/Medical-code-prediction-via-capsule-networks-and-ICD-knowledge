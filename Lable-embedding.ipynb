{
 "cells": [
  {
   "cell_type": "code",
   "execution_count": 12,
   "metadata": {},
   "outputs": [
    {
     "name": "stdout",
     "output_type": "stream",
     "text": [
      "['i', 'me', 'my', 'myself', 'we', 'our', 'ours', 'ourselves', 'you', \"you're\", \"you've\", \"you'll\", \"you'd\", 'your', 'yours', 'yourself', 'yourselves', 'he', 'him', 'his', 'himself', 'she', \"she's\", 'her', 'hers', 'herself', 'it', \"it's\", 'its', 'itself', 'they', 'them', 'their', 'theirs', 'themselves', 'what', 'which', 'who', 'whom', 'this', 'that', \"that'll\", 'these', 'those', 'am', 'is', 'are', 'was', 'were', 'be', 'been', 'being', 'have', 'has', 'had', 'having', 'do', 'does', 'did', 'doing', 'a', 'an', 'the', 'and', 'but', 'if', 'or', 'because', 'as', 'until', 'while', 'of', 'at', 'by', 'for', 'with', 'about', 'against', 'between', 'into', 'through', 'during', 'before', 'after', 'above', 'below', 'to', 'from', 'up', 'down', 'in', 'out', 'on', 'off', 'over', 'under', 'again', 'further', 'then', 'once', 'here', 'there', 'when', 'where', 'why', 'how', 'all', 'any', 'both', 'each', 'few', 'more', 'most', 'other', 'some', 'such', 'no', 'nor', 'not', 'only', 'own', 'same', 'so', 'than', 'too', 'very', 's', 't', 'can', 'will', 'just', 'don', \"don't\", 'should', \"should've\", 'now', 'd', 'll', 'm', 'o', 're', 've', 'y', 'ain', 'aren', \"aren't\", 'couldn', \"couldn't\", 'didn', \"didn't\", 'doesn', \"doesn't\", 'hadn', \"hadn't\", 'hasn', \"hasn't\", 'haven', \"haven't\", 'isn', \"isn't\", 'ma', 'mightn', \"mightn't\", 'mustn', \"mustn't\", 'needn', \"needn't\", 'shan', \"shan't\", 'shouldn', \"shouldn't\", 'wasn', \"wasn't\", 'weren', \"weren't\", 'won', \"won't\", 'wouldn', \"wouldn't\"]\n"
     ]
    }
   ],
   "source": [
    "import numpy as np\n",
    "import nltk\n",
    "import string\n",
    "# nltk.download('stopwords')\n",
    "from nltk.corpus import stopwords\n",
    "stop_word = stopwords.words('english')"
   ]
  },
  {
   "cell_type": "code",
   "execution_count": 4,
   "metadata": {},
   "outputs": [],
   "source": [
    "icd2name = {}\n",
    "with open(\"ICD9_descriptions\",'r') as f:\n",
    "    for line in f.readlines():\n",
    "        line = line.strip()\n",
    "        id = line.split(\"\\t\")[0]\n",
    "        name = line.split(\"\\t\")[1]\n",
    "        if \".\" not in id:\n",
    "            icd2name[id]=name"
   ]
  },
  {
   "cell_type": "code",
   "execution_count": 5,
   "metadata": {},
   "outputs": [],
   "source": [
    "label_to_ix=np.load('label_to_ix.npy',allow_pickle=True).item()"
   ]
  },
  {
   "cell_type": "code",
   "execution_count": 67,
   "metadata": {},
   "outputs": [
    {
     "data": {
      "text/plain": [
       "['procedures', 'and', 'interventions', '', 'not', 'elsewhere', 'classified']"
      ]
     },
     "execution_count": 67,
     "metadata": {},
     "output_type": "execute_result"
    }
   ],
   "source": [
    "def token(seq):\n",
    "    seq = seq.replace(\"&apos;\",'-')\n",
    "    seq_ = ''\n",
    "    kong = True\n",
    "    for i in seq.lower():\n",
    "        if i not in string.punctuation:\n",
    "            seq_+=i\n",
    "        else:\n",
    "            seq_+=' '\n",
    "    tokens = []\n",
    "    for word in seq_.split(\" \"):\n",
    "        tokens.append(word)\n",
    "        '''\n",
    "        if word not in stop_word:\n",
    "            tokens.append(word)\n",
    "        '''\n",
    "    return tokens\n",
    "\n",
    "token(\"Procedures and interventions, Not Elsewhere Classified\")"
   ]
  },
  {
   "cell_type": "code",
   "execution_count": 68,
   "metadata": {},
   "outputs": [
    {
     "name": "stdout",
     "output_type": "stream",
     "text": [
      "209 not find !!\n",
      "539 not find !!\n",
      "['209', '539']\n"
     ]
    }
   ],
   "source": [
    "not_find = []\n",
    "label_id2name = {}  #为344个标签索引\n",
    "for i,label in enumerate(label_to_ix.keys()):\n",
    "    id = label.split('_')[1]\n",
    "    try:\n",
    "        name = icd2name[id]\n",
    "        name = token(name)\n",
    "        label_id2name[i] = name\n",
    "        # print(i,id,name)\n",
    "    except:\n",
    "        label_id2name[i] = \"None\"\n",
    "        not_find.append(id)\n",
    "        print(id,\"not find !!\")\n",
    "print(not_find)"
   ]
  },
  {
   "cell_type": "code",
   "execution_count": 26,
   "metadata": {},
   "outputs": [],
   "source": [
    "from gensim.models.keyedvectors import KeyedVectors\n",
    "word_vectors = KeyedVectors.load_word2vec_format('../../emb/PubMed-and-PMC-w2v.bin', binary=True)\n"
   ]
  },
  {
   "cell_type": "code",
   "execution_count": 69,
   "metadata": {},
   "outputs": [
    {
     "name": "stdout",
     "output_type": "stream",
     "text": [
      "ckd ['chronic', 'kidney', 'disease', '', 'ckd', ''] 38\n",
      "parietoalveolar ['other', 'alveolar', 'and', 'parietoalveolar', 'pneumonopathy'] 158\n",
      "250\n",
      "338\n"
     ]
    }
   ],
   "source": [
    "label2vec = []\n",
    "for i in range(344):\n",
    "    if label_id2name[i] != 'None':\n",
    "        # print(label_id2name[i])\n",
    "        vec = np.zeros(200)\n",
    "        for word in label_id2name[i]:\n",
    "            if word == '':\n",
    "                continue\n",
    "            try:\n",
    "                vec+=word_vectors.word_vec(word)\n",
    "            except:\n",
    "                print(word,label_id2name[i],i)\n",
    "                vec+=np.random.uniform(-0.01, 0.01, 200).astype(\"float32\")\n",
    "    else:\n",
    "        print(i)\n",
    "        vec = np.random.uniform(-0.01, 0.01, 200).astype(\"float32\")\n",
    "    label2vec.append(vec)"
   ]
  },
  {
   "cell_type": "code",
   "execution_count": 72,
   "metadata": {},
   "outputs": [
    {
     "data": {
      "text/plain": [
       "(344, 200)"
      ]
     },
     "execution_count": 72,
     "metadata": {},
     "output_type": "execute_result"
    }
   ],
   "source": [
    "label2vec = np.array(label2vec)\n",
    "label2vec.shape"
   ]
  },
  {
   "cell_type": "code",
   "execution_count": 73,
   "metadata": {},
   "outputs": [],
   "source": [
    "np.save('label_embedding',label2vec)"
   ]
  },
  {
   "cell_type": "code",
   "execution_count": null,
   "metadata": {},
   "outputs": [],
   "source": []
  }
 ],
 "metadata": {
  "kernelspec": {
   "display_name": "Python 3",
   "language": "python",
   "name": "python3"
  },
  "language_info": {
   "codemirror_mode": {
    "name": "ipython",
    "version": 3
   },
   "file_extension": ".py",
   "mimetype": "text/x-python",
   "name": "python",
   "nbconvert_exporter": "python",
   "pygments_lexer": "ipython3",
   "version": "3.7.3"
  }
 },
 "nbformat": 4,
 "nbformat_minor": 2
}
